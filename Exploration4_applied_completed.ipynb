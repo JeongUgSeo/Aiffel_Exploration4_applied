{
 "cells": [
  {
   "cell_type": "code",
   "execution_count": 19,
   "id": "beautiful-raleigh",
   "metadata": {},
   "outputs": [
    {
     "name": "stdout",
     "output_type": "stream",
     "text": [
      "데이터 크기: 4773\n",
      "Examples:\n",
      " ['[Hook]', \"I've been down so long, it look like up to me\", 'They look up to me']\n"
     ]
    }
   ],
   "source": [
    "import glob\n",
    "import os, re \n",
    "import numpy as np\n",
    "import tensorflow as tf\n",
    "\n",
    "txt_file_path = os.getenv('HOME')+'/data/lyrics/*.txt'\n",
    "\n",
    "txt_list = glob.glob(txt_file_path)\n",
    "\n",
    "txt_list = txt_list[0:1]\n",
    "\n",
    "raw_corpus = []\n",
    "\n",
    "# 여러개의 txt 파일을 모두 읽어서 raw_corpus 에 담습니다.\n",
    "# for txt_file in txt_list:\n",
    "#     with open(txt_file, \"r\") as f:\n",
    "#         raw = f.read().splitlines()\n",
    "#         raw_corpus.extend(raw)\n",
    "        \n",
    "for txt_file in txt_list:\n",
    "    with open(txt_file, \"r\") as f:\n",
    "        raw = f.read().splitlines()\n",
    "        raw_corpus.extend(raw)\n",
    "\n",
    "print(\"데이터 크기:\", len(raw_corpus))\n",
    "print(\"Examples:\\n\", raw_corpus[:3])"
   ]
  },
  {
   "cell_type": "code",
   "execution_count": 20,
   "id": "french-singles",
   "metadata": {},
   "outputs": [
    {
     "name": "stdout",
     "output_type": "stream",
     "text": [
      "[Hook]\n",
      "I've been down so long, it look like up to me\n",
      "They look up to me\n",
      "I got fake people showin' fake love to me\n",
      "Straight up to my face, straight up to my face\n",
      "I've been down so long, it look like up to me\n",
      "They look up to me\n",
      "I got fake people showin' fake love to me\n",
      "Straight up to my face, straight up to my face [Verse 1]\n",
      "Somethin' ain't right when we talkin'\n"
     ]
    }
   ],
   "source": [
    "for idx, sentence in enumerate(raw_corpus):\n",
    "    if len(sentence) == 0: continue   # 길이가 0인 문장은 건너뜁니다.\n",
    "    if sentence[-1] == \":\": continue  # 문장의 끝이 : 인 문장은 건너뜁니다.\n",
    "\n",
    "    if idx > 9: break   # 일단 문장 10개만 확인해 볼 겁니다.\n",
    "        \n",
    "    print(sentence)"
   ]
  },
  {
   "cell_type": "code",
   "execution_count": 21,
   "id": "tracked-field",
   "metadata": {},
   "outputs": [
    {
     "name": "stdout",
     "output_type": "stream",
     "text": [
      "<start> this is sample sentence . <end>\n"
     ]
    }
   ],
   "source": [
    "# 입력된 문장을\n",
    "#     1. 소문자로 바꾸고, 양쪽 공백을 지웁니다\n",
    "#     2. 특수문자 양쪽에 공백을 넣고\n",
    "#     3. 여러개의 공백은 하나의 공백으로 바꿉니다\n",
    "#     4. a-zA-Z?.!,¿가 아닌 모든 문자를 하나의 공백으로 바꿉니다\n",
    "#     5. 다시 양쪽 공백을 지웁니다\n",
    "#     6. 문장 시작에는 <start>, 끝에는 <end>를 추가합니다\n",
    "# 이 순서로 처리해주면 문제가 되는 상황을 방지할 수 있겠네요!\n",
    "def preprocess_sentence(sentence):\n",
    "    sentence = sentence.lower().strip() # 1\n",
    "    sentence = re.sub(r\"([?.!,¿])\", r\" \\1 \", sentence) # 2\n",
    "    sentence = re.sub(r'[\" \"]+', \" \", sentence) # 3\n",
    "    sentence = re.sub(r\"[^a-zA-Z?.!,¿]+\", \" \", sentence) # 4\n",
    "    sentence = sentence.strip() # 5\n",
    "    sentence = '<start> ' + sentence + ' <end>' # 6\n",
    "    return sentence\n",
    "\n",
    "# 이 문장이 어떻게 필터링되는지 확인해 보세요.\n",
    "print(preprocess_sentence(\"This @_is ;;;sample        sentence.\"))"
   ]
  },
  {
   "cell_type": "code",
   "execution_count": 22,
   "id": "hollow-receipt",
   "metadata": {},
   "outputs": [
    {
     "data": {
      "text/plain": [
       "['<start> hook <end>',\n",
       " '<start> i ve been down so long , it look like up to me <end>',\n",
       " '<start> they look up to me <end>',\n",
       " '<start> i got fake people showin fake love to me <end>',\n",
       " '<start> straight up to my face , straight up to my face <end>',\n",
       " '<start> i ve been down so long , it look like up to me <end>',\n",
       " '<start> they look up to me <end>',\n",
       " '<start> i got fake people showin fake love to me <end>',\n",
       " '<start> straight up to my face , straight up to my face verse <end>',\n",
       " '<start> somethin ain t right when we talkin <end>']"
      ]
     },
     "execution_count": 22,
     "metadata": {},
     "output_type": "execute_result"
    }
   ],
   "source": [
    "# 여기에 정제된 문장을 모을겁니다\n",
    "corpus = []\n",
    "\n",
    "for sentence in raw_corpus:\n",
    "    # 우리가 원하지 않는 문장은 건너뜁니다\n",
    "    if len(sentence) == 0: continue\n",
    "    if sentence[-1] == \":\": continue\n",
    "    \n",
    "    # 정제를 하고 담아주세요\n",
    "    preprocessed_sentence = preprocess_sentence(sentence)\n",
    "    corpus.append(preprocessed_sentence)\n",
    "        \n",
    "# 정제된 결과를 10개만 확인해보죠\n",
    "corpus[:10]"
   ]
  },
  {
   "cell_type": "code",
   "execution_count": 23,
   "id": "reverse-archive",
   "metadata": {},
   "outputs": [
    {
     "name": "stdout",
     "output_type": "stream",
     "text": [
      "[[   2  222    3 ...    0    0    0]\n",
      " [   2    5   97 ...    0    0    0]\n",
      " [   2   23  100 ...    0    0    0]\n",
      " ...\n",
      " [   2    6  247 ...    0    0    0]\n",
      " [   2   46 1665 ...    0    0    0]\n",
      " [   2   12 3626 ...    0    0    0]] <keras_preprocessing.text.Tokenizer object at 0x7f12013d6f90>\n"
     ]
    }
   ],
   "source": [
    "# 토큰화 할 때 텐서플로우의 Tokenizer와 pad_sequences를 사용합니다\n",
    "# 더 잘 알기 위해 아래 문서들을 참고하면 좋습니다\n",
    "# https://www.tensorflow.org/api_docs/python/tf/keras/preprocessing/text/Tokenizer\n",
    "# https://www.tensorflow.org/api_docs/python/tf/keras/preprocessing/sequence/pad_sequences\n",
    "def tokenize(corpus):\n",
    "    # 7000단어를 기억할 수 있는 tokenizer를 만들겁니다\n",
    "    # 우리는 이미 문장을 정제했으니 filters가 필요없어요\n",
    "    # 7000단어에 포함되지 못한 단어는 '<unk>'로 바꿀거에요\n",
    "    tokenizer = tf.keras.preprocessing.text.Tokenizer(\n",
    "        num_words=7000, \n",
    "        filters=' ',\n",
    "        oov_token=\"<unk>\"\n",
    "    )\n",
    "    # corpus를 이용해 tokenizer 내부의 단어장을 완성합니다\n",
    "    tokenizer.fit_on_texts(corpus)\n",
    "    # 준비한 tokenizer를 이용해 corpus를 Tensor로 변환합니다\n",
    "    tensor = tokenizer.texts_to_sequences(corpus)   \n",
    "    # 입력 데이터의 시퀀스 길이를 일정하게 맞춰줍니다\n",
    "    # 만약 시퀀스가 짧다면 문장 뒤에 패딩을 붙여 길이를 맞춰줍니다.\n",
    "    # 문장 앞에 패딩을 붙여 길이를 맞추고 싶다면 padding='pre'를 사용합니다\n",
    "    tensor = tf.keras.preprocessing.sequence.pad_sequences(tensor, padding='post')  \n",
    "    \n",
    "    print(tensor,tokenizer)\n",
    "    return tensor, tokenizer\n",
    "\n",
    "tensor, tokenizer = tokenize(corpus)"
   ]
  },
  {
   "cell_type": "code",
   "execution_count": 24,
   "id": "surgical-template",
   "metadata": {},
   "outputs": [
    {
     "name": "stdout",
     "output_type": "stream",
     "text": [
      "[[  2 222   3   0   0   0   0   0   0   0]\n",
      " [  2   5  97  63  98  46 157   4   8 100]\n",
      " [  2  23 100  24   9  10   3   0   0   0]]\n"
     ]
    }
   ],
   "source": [
    "print(tensor[:3, :10])"
   ]
  },
  {
   "cell_type": "code",
   "execution_count": 25,
   "id": "accomplished-median",
   "metadata": {},
   "outputs": [
    {
     "name": "stdout",
     "output_type": "stream",
     "text": [
      "1 : <unk>\n",
      "2 : <start>\n",
      "3 : <end>\n",
      "4 : ,\n",
      "5 : i\n",
      "6 : you\n",
      "7 : the\n",
      "8 : it\n",
      "9 : to\n",
      "10 : me\n"
     ]
    }
   ],
   "source": [
    "for idx in tokenizer.index_word:\n",
    "    print(idx, \":\", tokenizer.index_word[idx])\n",
    "\n",
    "    if idx >= 10: break"
   ]
  },
  {
   "cell_type": "code",
   "execution_count": 26,
   "id": "better-theater",
   "metadata": {},
   "outputs": [
    {
     "name": "stdout",
     "output_type": "stream",
     "text": [
      "[  2 222   3   0   0   0   0   0   0   0   0   0   0   0   0   0   0   0\n",
      "   0   0   0   0   0   0   0   0   0   0   0   0   0   0   0   0   0   0\n",
      "   0   0   0   0   0   0   0   0   0   0   0   0   0   0   0   0   0   0\n",
      "   0   0   0   0   0   0   0   0   0   0   0   0   0   0   0   0   0   0\n",
      "   0   0   0   0   0   0   0   0   0   0   0   0   0   0   0   0   0   0\n",
      "   0   0   0   0   0   0   0   0   0   0   0   0   0]\n",
      "[222   3   0   0   0   0   0   0   0   0   0   0   0   0   0   0   0   0\n",
      "   0   0   0   0   0   0   0   0   0   0   0   0   0   0   0   0   0   0\n",
      "   0   0   0   0   0   0   0   0   0   0   0   0   0   0   0   0   0   0\n",
      "   0   0   0   0   0   0   0   0   0   0   0   0   0   0   0   0   0   0\n",
      "   0   0   0   0   0   0   0   0   0   0   0   0   0   0   0   0   0   0\n",
      "   0   0   0   0   0   0   0   0   0   0   0   0   0]\n"
     ]
    }
   ],
   "source": [
    "# tensor에서 마지막 토큰을 잘라내서 소스 문장을 생성합니다\n",
    "# 마지막 토큰은 <end>가 아니라 <pad>일 가능성이 높습니다.\n",
    "src_input = tensor[:, :-1]  \n",
    "# tensor에서 <start>를 잘라내서 타겟 문장을 생성합니다.\n",
    "tgt_input = tensor[:, 1:]    \n",
    "\n",
    "print(src_input[0])\n",
    "print(tgt_input[0])"
   ]
  },
  {
   "cell_type": "code",
   "execution_count": 27,
   "id": "sharp-charm",
   "metadata": {},
   "outputs": [
    {
     "data": {
      "text/plain": [
       "<BatchDataset shapes: ((128, 103), (128, 103)), types: (tf.int32, tf.int32)>"
      ]
     },
     "execution_count": 27,
     "metadata": {},
     "output_type": "execute_result"
    }
   ],
   "source": [
    "BUFFER_SIZE = len(src_input)\n",
    "BATCH_SIZE = 128\n",
    "steps_per_epoch = len(src_input) // BATCH_SIZE\n",
    "\n",
    " # tokenizer가 구축한 단어사전 내 7000개와, 여기 포함되지 않은 0:<pad>를 포함하여 7001개\n",
    "VOCAB_SIZE = tokenizer.num_words + 1   \n",
    "\n",
    "# 준비한 데이터 소스로부터 데이터셋을 만듭니다\n",
    "# 데이터셋에 대해서는 아래 문서를 참고하세요\n",
    "# 자세히 알아둘수록 도움이 많이 되는 중요한 문서입니다\n",
    "# https://www.tensorflow.org/api_docs/python/tf/data/Dataset\n",
    "dataset = tf.data.Dataset.from_tensor_slices((src_input, tgt_input))\n",
    "dataset = dataset.shuffle(BUFFER_SIZE)\n",
    "dataset = dataset.batch(BATCH_SIZE, drop_remainder=True)\n",
    "dataset"
   ]
  },
  {
   "cell_type": "code",
   "execution_count": 28,
   "id": "outdoor-bathroom",
   "metadata": {},
   "outputs": [],
   "source": [
    "class TextGenerator(tf.keras.Model):\n",
    "    def __init__(self, vocab_size, embedding_size, hidden_size):\n",
    "        super().__init__()\n",
    "        \n",
    "        self.embedding = tf.keras.layers.Embedding(vocab_size, embedding_size)\n",
    "        self.rnn_1 = tf.keras.layers.LSTM(hidden_size, return_sequences=True)\n",
    "        self.rnn_2 = tf.keras.layers.LSTM(hidden_size, return_sequences=True)\n",
    "        self.linear = tf.keras.layers.Dense(vocab_size)\n",
    "        \n",
    "    def call(self, x):\n",
    "        out = self.embedding(x)\n",
    "        out = self.rnn_1(out)\n",
    "        out = self.rnn_2(out)\n",
    "        out = self.linear(out)\n",
    "        \n",
    "        return out\n",
    "    \n",
    "embedding_size = 256\n",
    "hidden_size = 1024\n",
    "model = TextGenerator(tokenizer.num_words + 1, embedding_size , hidden_size)"
   ]
  },
  {
   "cell_type": "code",
   "execution_count": 29,
   "id": "allied-montgomery",
   "metadata": {},
   "outputs": [
    {
     "data": {
      "text/plain": [
       "<tf.Tensor: shape=(128, 103, 7001), dtype=float32, numpy=\n",
       "array([[[ 9.5456227e-05,  1.5450237e-04, -3.8845273e-04, ...,\n",
       "          2.5137269e-04,  3.0008363e-04,  5.7091514e-05],\n",
       "        [ 1.6952681e-04,  3.0835537e-04, -4.9422169e-04, ...,\n",
       "          1.3333145e-05,  5.9445109e-04,  2.2610983e-04],\n",
       "        [-3.2417120e-05,  5.9560221e-04, -7.8212487e-04, ...,\n",
       "         -7.1598646e-05,  8.3072664e-04,  3.1751464e-04],\n",
       "        ...,\n",
       "        [ 1.9914552e-03,  5.1337662e-03,  6.9228271e-03, ...,\n",
       "         -3.8975042e-03,  3.3775438e-03,  3.4423377e-03],\n",
       "        [ 1.9914568e-03,  5.1337653e-03,  6.9228262e-03, ...,\n",
       "         -3.8975060e-03,  3.3775407e-03,  3.4423408e-03],\n",
       "        [ 1.9914568e-03,  5.1337616e-03,  6.9228290e-03, ...,\n",
       "         -3.8975051e-03,  3.3775419e-03,  3.4423440e-03]],\n",
       "\n",
       "       [[ 9.5456227e-05,  1.5450237e-04, -3.8845273e-04, ...,\n",
       "          2.5137269e-04,  3.0008363e-04,  5.7091514e-05],\n",
       "        [ 5.1327713e-04,  4.0476187e-04, -9.2118040e-05, ...,\n",
       "          2.1387187e-04,  4.1546163e-04,  1.9627309e-04],\n",
       "        [ 1.0524396e-03,  3.7390925e-04, -3.3611080e-04, ...,\n",
       "          4.8466571e-04,  4.5675031e-04,  8.3079663e-05],\n",
       "        ...,\n",
       "        [ 1.9914617e-03,  5.1337625e-03,  6.9228285e-03, ...,\n",
       "         -3.8975088e-03,  3.3775363e-03,  3.4423347e-03],\n",
       "        [ 1.9914592e-03,  5.1337648e-03,  6.9228322e-03, ...,\n",
       "         -3.8975079e-03,  3.3775368e-03,  3.4423356e-03],\n",
       "        [ 1.9914608e-03,  5.1337602e-03,  6.9228364e-03, ...,\n",
       "         -3.8975060e-03,  3.3775342e-03,  3.4423401e-03]],\n",
       "\n",
       "       [[ 9.5456227e-05,  1.5450237e-04, -3.8845273e-04, ...,\n",
       "          2.5137269e-04,  3.0008363e-04,  5.7091514e-05],\n",
       "        [ 2.7836088e-04,  3.7625813e-04, -2.6301306e-04, ...,\n",
       "          1.9316570e-04,  2.2692230e-04, -1.4315377e-04],\n",
       "        [ 5.7686208e-04,  3.7583945e-04, -1.3640383e-04, ...,\n",
       "          2.4435075e-04,  1.7937469e-04, -4.9935607e-04],\n",
       "        ...,\n",
       "        [ 1.9914575e-03,  5.1337727e-03,  6.9228378e-03, ...,\n",
       "         -3.8975079e-03,  3.3775382e-03,  3.4423477e-03],\n",
       "        [ 1.9914557e-03,  5.1337723e-03,  6.9228443e-03, ...,\n",
       "         -3.8975046e-03,  3.3775377e-03,  3.4423473e-03],\n",
       "        [ 1.9914550e-03,  5.1337723e-03,  6.9228443e-03, ...,\n",
       "         -3.8975051e-03,  3.3775358e-03,  3.4423473e-03]],\n",
       "\n",
       "       ...,\n",
       "\n",
       "       [[ 9.5456227e-05,  1.5450237e-04, -3.8845273e-04, ...,\n",
       "          2.5137269e-04,  3.0008363e-04,  5.7091514e-05],\n",
       "        [ 2.7171732e-04, -5.2995107e-05, -7.6594943e-04, ...,\n",
       "          1.9388055e-04,  5.6323648e-04,  3.5331788e-04],\n",
       "        [ 4.9402245e-04, -1.8315055e-05, -1.0626008e-03, ...,\n",
       "          2.3856429e-04,  5.4509111e-04,  6.4710219e-04],\n",
       "        ...,\n",
       "        [ 1.9914536e-03,  5.1337746e-03,  6.9228471e-03, ...,\n",
       "         -3.8974993e-03,  3.3775342e-03,  3.4423559e-03],\n",
       "        [ 1.9914533e-03,  5.1337760e-03,  6.9228462e-03, ...,\n",
       "         -3.8974984e-03,  3.3775349e-03,  3.4423540e-03],\n",
       "        [ 1.9914550e-03,  5.1337765e-03,  6.9228476e-03, ...,\n",
       "         -3.8974979e-03,  3.3775344e-03,  3.4423552e-03]],\n",
       "\n",
       "       [[ 9.5456227e-05,  1.5450237e-04, -3.8845273e-04, ...,\n",
       "          2.5137269e-04,  3.0008363e-04,  5.7091514e-05],\n",
       "        [ 5.1327713e-04,  4.0476187e-04, -9.2118040e-05, ...,\n",
       "          2.1387187e-04,  4.1546163e-04,  1.9627309e-04],\n",
       "        [ 1.1209849e-03,  7.3810091e-04, -1.1312627e-04, ...,\n",
       "          3.1554511e-05,  2.6762954e-04,  3.0194371e-04],\n",
       "        ...,\n",
       "        [ 1.9914533e-03,  5.1337676e-03,  6.9228392e-03, ...,\n",
       "         -3.8975074e-03,  3.3775412e-03,  3.4423515e-03],\n",
       "        [ 1.9914531e-03,  5.1337699e-03,  6.9228387e-03, ...,\n",
       "         -3.8975077e-03,  3.3775407e-03,  3.4423522e-03],\n",
       "        [ 1.9914540e-03,  5.1337681e-03,  6.9228387e-03, ...,\n",
       "         -3.8975030e-03,  3.3775382e-03,  3.4423552e-03]],\n",
       "\n",
       "       [[ 9.5456227e-05,  1.5450237e-04, -3.8845273e-04, ...,\n",
       "          2.5137269e-04,  3.0008363e-04,  5.7091514e-05],\n",
       "        [ 1.9829908e-04,  2.2140855e-04, -5.7301979e-04, ...,\n",
       "          4.4246053e-04,  3.7841813e-04,  8.6184678e-05],\n",
       "        [ 4.6182581e-04,  1.8907491e-04, -7.8293611e-04, ...,\n",
       "          3.6398578e-04,  2.4575321e-04,  1.0595953e-04],\n",
       "        ...,\n",
       "        [ 1.9914594e-03,  5.1337699e-03,  6.9228429e-03, ...,\n",
       "         -3.8975079e-03,  3.3775363e-03,  3.4423559e-03],\n",
       "        [ 1.9914578e-03,  5.1337709e-03,  6.9228434e-03, ...,\n",
       "         -3.8975046e-03,  3.3775354e-03,  3.4423538e-03],\n",
       "        [ 1.9914547e-03,  5.1337741e-03,  6.9228453e-03, ...,\n",
       "         -3.8975042e-03,  3.3775344e-03,  3.4423531e-03]]], dtype=float32)>"
      ]
     },
     "execution_count": 29,
     "metadata": {},
     "output_type": "execute_result"
    }
   ],
   "source": [
    "# 데이터셋에서 데이터 한 배치만 불러오는 방법입니다.\n",
    "# 지금은 동작 원리에 너무 빠져들지 마세요~\n",
    "for src_sample, tgt_sample in dataset.take(1): break\n",
    "\n",
    "# 한 배치만 불러온 데이터를 모델에 넣어봅니다\n",
    "model(src_sample)"
   ]
  },
  {
   "cell_type": "code",
   "execution_count": 30,
   "id": "manufactured-guidance",
   "metadata": {},
   "outputs": [
    {
     "name": "stdout",
     "output_type": "stream",
     "text": [
      "Model: \"text_generator_1\"\n",
      "_________________________________________________________________\n",
      "Layer (type)                 Output Shape              Param #   \n",
      "=================================================================\n",
      "embedding_1 (Embedding)      multiple                  1792256   \n",
      "_________________________________________________________________\n",
      "lstm_2 (LSTM)                multiple                  5246976   \n",
      "_________________________________________________________________\n",
      "lstm_3 (LSTM)                multiple                  8392704   \n",
      "_________________________________________________________________\n",
      "dense_1 (Dense)              multiple                  7176025   \n",
      "=================================================================\n",
      "Total params: 22,607,961\n",
      "Trainable params: 22,607,961\n",
      "Non-trainable params: 0\n",
      "_________________________________________________________________\n"
     ]
    }
   ],
   "source": [
    "model.summary()"
   ]
  },
  {
   "cell_type": "code",
   "execution_count": 40,
   "id": "sunset-pittsburgh",
   "metadata": {},
   "outputs": [
    {
     "name": "stdout",
     "output_type": "stream",
     "text": [
      "Epoch 1/10\n",
      "37/37 [==============================] - 36s 921ms/step - loss: 0.6641\n",
      "Epoch 2/10\n",
      "37/37 [==============================] - 34s 925ms/step - loss: 0.5603\n",
      "Epoch 3/10\n",
      "37/37 [==============================] - 34s 928ms/step - loss: 0.5352\n",
      "Epoch 4/10\n",
      "37/37 [==============================] - 34s 928ms/step - loss: 0.5151\n",
      "Epoch 5/10\n",
      "37/37 [==============================] - 34s 929ms/step - loss: 0.5063\n",
      "Epoch 6/10\n",
      "37/37 [==============================] - 34s 931ms/step - loss: 0.4706\n",
      "Epoch 7/10\n",
      "37/37 [==============================] - 34s 930ms/step - loss: 0.4562\n",
      "Epoch 8/10\n",
      "37/37 [==============================] - 34s 932ms/step - loss: 0.4378\n",
      "Epoch 9/10\n",
      "37/37 [==============================] - 35s 933ms/step - loss: 0.4115\n",
      "Epoch 10/10\n",
      "37/37 [==============================] - 35s 933ms/step - loss: 0.3975\n"
     ]
    },
    {
     "data": {
      "text/plain": [
       "<tensorflow.python.keras.callbacks.History at 0x7f1201341b50>"
      ]
     },
     "execution_count": 40,
     "metadata": {},
     "output_type": "execute_result"
    }
   ],
   "source": [
    "# optimizer와 loss등은 차차 배웁니다\n",
    "# 혹시 미리 알고 싶다면 아래 문서를 참고하세요\n",
    "# https://www.tensorflow.org/api_docs/python/tf/keras/optimizers\n",
    "# https://www.tensorflow.org/api_docs/python/tf/keras/losses\n",
    "# 양이 상당히 많은 편이니 지금 보는 것은 추천하지 않습니다\n",
    "optimizer = tf.keras.optimizers.Adam()\n",
    "loss = tf.keras.losses.SparseCategoricalCrossentropy(\n",
    "    from_logits=True,\n",
    "    reduction='none'\n",
    ")\n",
    "\n",
    "model.compile(loss=loss, optimizer=optimizer)\n",
    "model.fit(dataset, epochs=10)"
   ]
  },
  {
   "cell_type": "code",
   "execution_count": 41,
   "id": "equipped-chapter",
   "metadata": {},
   "outputs": [],
   "source": [
    "def generate_text(model, tokenizer, init_sentence=\"<start>\", max_len=20):\n",
    "    # 테스트를 위해서 입력받은 init_sentence도 텐서로 변환합니다\n",
    "    test_input = tokenizer.texts_to_sequences([init_sentence])\n",
    "    test_tensor = tf.convert_to_tensor(test_input, dtype=tf.int64)\n",
    "    end_token = tokenizer.word_index[\"<end>\"]\n",
    "\n",
    "    # 단어 하나씩 예측해 문장을 만듭니다\n",
    "    #    1. 입력받은 문장의 텐서를 입력합니다\n",
    "    #    2. 예측된 값 중 가장 높은 확률인 word index를 뽑아냅니다\n",
    "    #    3. 2에서 예측된 word index를 문장 뒤에 붙입니다\n",
    "    #    4. 모델이 <end>를 예측했거나, max_len에 도달했다면 문장 생성을 마칩니다\n",
    "    while True:\n",
    "        # 1\n",
    "        predict = model(test_tensor) \n",
    "        # 2\n",
    "        predict_word = tf.argmax(tf.nn.softmax(predict, axis=-1), axis=-1)[:, -1] \n",
    "        # 3 \n",
    "        test_tensor = tf.concat([test_tensor, tf.expand_dims(predict_word, axis=0)], axis=-1)\n",
    "        # 4\n",
    "        if predict_word.numpy()[0] == end_token: break\n",
    "        if test_tensor.shape[1] >= max_len: break\n",
    "\n",
    "    generated = \"\"\n",
    "    # tokenizer를 이용해 word index를 단어로 하나씩 변환합니다 \n",
    "    for word_index in test_tensor[0].numpy():\n",
    "        generated += tokenizer.index_word[word_index] + \" \"\n",
    "\n",
    "    return generated"
   ]
  },
  {
   "cell_type": "code",
   "execution_count": 44,
   "id": "upper-indian",
   "metadata": {},
   "outputs": [
    {
     "data": {
      "text/plain": [
       "'<start> you know i m the legend , i know it <end> '"
      ]
     },
     "execution_count": 44,
     "metadata": {},
     "output_type": "execute_result"
    }
   ],
   "source": [
    "generate_text(model, tokenizer, init_sentence=\"<start> you\")"
   ]
  },
  {
   "cell_type": "code",
   "execution_count": 45,
   "id": "dated-school",
   "metadata": {},
   "outputs": [
    {
     "data": {
      "text/plain": [
       "'<start> he i m the plug , really i m the plug <end> '"
      ]
     },
     "execution_count": 45,
     "metadata": {},
     "output_type": "execute_result"
    }
   ],
   "source": [
    "generate_text(model, tokenizer, init_sentence=\"<start> he\")"
   ]
  },
  {
   "cell_type": "code",
   "execution_count": 46,
   "id": "technical-somerset",
   "metadata": {},
   "outputs": [
    {
     "data": {
      "text/plain": [
       "'<start> i m the youngest <end> '"
      ]
     },
     "execution_count": 46,
     "metadata": {},
     "output_type": "execute_result"
    }
   ],
   "source": [
    "generate_text(model, tokenizer, init_sentence=\"<start> i\")"
   ]
  },
  {
   "cell_type": "code",
   "execution_count": 47,
   "id": "agreed-indication",
   "metadata": {},
   "outputs": [
    {
     "data": {
      "text/plain": [
       "'<start> love you fancy huh ? <end> '"
      ]
     },
     "execution_count": 47,
     "metadata": {},
     "output_type": "execute_result"
    }
   ],
   "source": [
    "generate_text(model, tokenizer, init_sentence=\"<start> love\")"
   ]
  },
  {
   "cell_type": "code",
   "execution_count": 51,
   "id": "heavy-smell",
   "metadata": {},
   "outputs": [
    {
     "data": {
      "text/plain": [
       "'<start> god you got the same , i m a plug <end> '"
      ]
     },
     "execution_count": 51,
     "metadata": {},
     "output_type": "execute_result"
    }
   ],
   "source": [
    "generate_text(model, tokenizer, init_sentence=\"<start> god\")"
   ]
  },
  {
   "cell_type": "code",
   "execution_count": 52,
   "id": "alike-export",
   "metadata": {},
   "outputs": [
    {
     "data": {
      "text/plain": [
       "'<start> mind s a girl , i m the plug <end> '"
      ]
     },
     "execution_count": 52,
     "metadata": {},
     "output_type": "execute_result"
    }
   ],
   "source": [
    "generate_text(model, tokenizer, init_sentence=\"<start> mind\")"
   ]
  },
  {
   "cell_type": "code",
   "execution_count": 54,
   "id": "sharp-terrace",
   "metadata": {},
   "outputs": [
    {
     "data": {
      "text/plain": [
       "'<start> king s just really i m the place <end> '"
      ]
     },
     "execution_count": 54,
     "metadata": {},
     "output_type": "execute_result"
    }
   ],
   "source": [
    "generate_text(model, tokenizer, init_sentence=\"<start> king\")"
   ]
  },
  {
   "cell_type": "code",
   "execution_count": null,
   "id": "champion-river",
   "metadata": {},
   "outputs": [],
   "source": []
  }
 ],
 "metadata": {
  "kernelspec": {
   "display_name": "Python 3",
   "language": "python",
   "name": "python3"
  },
  "language_info": {
   "codemirror_mode": {
    "name": "ipython",
    "version": 3
   },
   "file_extension": ".py",
   "mimetype": "text/x-python",
   "name": "python",
   "nbconvert_exporter": "python",
   "pygments_lexer": "ipython3",
   "version": "3.7.9"
  }
 },
 "nbformat": 4,
 "nbformat_minor": 5
}
